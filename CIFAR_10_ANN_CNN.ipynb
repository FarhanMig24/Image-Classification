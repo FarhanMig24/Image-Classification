{
  "nbformat": 4,
  "nbformat_minor": 0,
  "metadata": {
    "colab": {
      "provenance": []
    },
    "kernelspec": {
      "name": "python3",
      "display_name": "Python 3"
    },
    "language_info": {
      "name": "python"
    }
  },
  "cells": [
    {
      "cell_type": "code",
      "execution_count": null,
      "metadata": {
        "id": "mdr-ce2F8hKE"
      },
      "outputs": [],
      "source": [
        "import tensorflow as tf\n",
        "from tensorflow.keras import datasets, layers, models\n",
        "import matplotlib.pyplot as plt\n",
        "import numpy as np"
      ]
    },
    {
      "cell_type": "code",
      "source": [
        "(X_train, y_train), (X_test, y_test) = datasets.cifar10.load_data()"
      ],
      "metadata": {
        "id": "9zNt3spiAJtI",
        "colab": {
          "base_uri": "https://localhost:8080/"
        },
        "outputId": "d52ed6bd-1f2b-4596-a952-8cafd57d72b5"
      },
      "execution_count": null,
      "outputs": [
        {
          "output_type": "stream",
          "name": "stdout",
          "text": [
            "Downloading data from https://www.cs.toronto.edu/~kriz/cifar-10-python.tar.gz\n",
            "170500096/170498071 [==============================] - 2s 0us/step\n",
            "170508288/170498071 [==============================] - 2s 0us/step\n"
          ]
        }
      ]
    },
    {
      "cell_type": "code",
      "source": [
        "classes = [\"airplane\", \"automobile\", \"bird\", \"cat\", \"deer\", \"dog\", \"frog\", \"horse\", \"ship\", \"truck\"]\n",
        "\n",
        "y_train[:6]\n",
        "\n",
        "y_train = y_train.reshape(-1,)    #-1 means we dont want to change that dimension and blank after comma means we want to make it a 1D array"
      ],
      "metadata": {
        "id": "RyHyLZVH_6Fr"
      },
      "execution_count": null,
      "outputs": []
    },
    {
      "cell_type": "code",
      "source": [
        "def plot_sample(X, y, index):\n",
        "    plt.figure(figsize = (15,2))\n",
        "    plt.imshow(X[index])\n",
        "    plt.xlabel(classes[y[index]])\n",
        "\n",
        "plot_sample(X_train, y_train, 100)"
      ],
      "metadata": {
        "colab": {
          "base_uri": "https://localhost:8080/",
          "height": 173
        },
        "id": "uI8nBgCN_93i",
        "outputId": "fdaac542-16c8-45a7-9c00-9310581370ed"
      },
      "execution_count": null,
      "outputs": [
        {
          "output_type": "display_data",
          "data": {
            "text/plain": [
              "<Figure size 1080x144 with 1 Axes>"
            ],
            "image/png": "[encoded data removed]"
          },
          "metadata": {
            "needs_background": "light"
          }
        }
      ]
    },
    {
      "cell_type": "code",
      "source": [
        "X_train = X_train / 255.0\n",
        "X_test = X_test / 255.0"
      ],
      "metadata": {
        "id": "k5e8xLng__1o"
      },
      "execution_count": null,
      "outputs": []
    },
    {
      "cell_type": "code",
      "source": [
        "# Using ANN for image classification\n",
        "\n",
        "\n",
        "ann = models.Sequential([\n",
        "        layers.Flatten(input_shape=(32,32,3)),\n",
        "        layers.Dense(3000, activation='relu'),\n",
        "        layers.Dense(1000, activation='relu'),\n",
        "        layers.Dense(10, activation='softmax')\n",
        "    ])\n",
        "\n",
        "ann.compile(optimizer='SGD',\n",
        "              loss='sparse_categorical_crossentropy',\n",
        "              metrics=['sparse_categorical_accuracy'])\n",
        "\n",
        "ann.fit(X_train, y_train, epochs=5)"
      ],
      "metadata": {
        "id": "Fn0BELfG_Mpt",
        "colab": {
          "base_uri": "https://localhost:8080/"
        },
        "outputId": "3ce2b75f-72a8-4713-8f2c-e0359f80d83d"
      },
      "execution_count": null,
      "outputs": [
        {
          "output_type": "stream",
          "name": "stdout",
          "text": [
            "Epoch 1/5\n",
            "1563/1563 [==============================] - 99s 63ms/step - loss: 1.8050 - sparse_categorical_accuracy: 0.3571\n",
            "Epoch 2/5\n",
            "1563/1563 [==============================] - 99s 63ms/step - loss: 1.6220 - sparse_categorical_accuracy: 0.4259\n",
            "Epoch 3/5\n",
            "1563/1563 [==============================] - 98s 63ms/step - loss: 1.5412 - sparse_categorical_accuracy: 0.4587\n",
            "Epoch 4/5\n",
            "1563/1563 [==============================] - 99s 63ms/step - loss: 1.4828 - sparse_categorical_accuracy: 0.4778\n",
            "Epoch 5/5\n",
            "1563/1563 [==============================] - 99s 63ms/step - loss: 1.4297 - sparse_categorical_accuracy: 0.4992\n"
          ]
        },
        {
          "output_type": "execute_result",
          "data": {
            "text/plain": [
              "<keras.callbacks.History at 0x7fa0ec0b8c90>"
            ]
          },
          "metadata": {},
          "execution_count": 6
        }
      ]
    },
    {
      "cell_type": "code",
      "source": [
        "from sklearn.metrics import confusion_matrix , classification_report\n",
        "import numpy as np\n",
        "y_pred = ann.predict(X_test)\n",
        "y_pred_classes = [np.argmax(element) for element in y_pred]\n",
        "\n",
        "print(\"Classification Report: \\n\", classification_report(y_test, y_pred_classes))"
      ],
      "metadata": {
        "id": "5tvn033K_z3P",
        "colab": {
          "base_uri": "https://localhost:8080/"
        },
        "outputId": "1bbd64c2-74f0-4dc1-e775-ea5152e96b94"
      },
      "execution_count": null,
      "outputs": [
        {
          "output_type": "stream",
          "name": "stdout",
          "text": [
            "Classification Report: \n",
            "               precision    recall  f1-score   support\n",
            "\n",
            "           0       0.34      0.79      0.48      1000\n",
            "           1       0.53      0.69      0.60      1000\n",
            "           2       0.39      0.33      0.36      1000\n",
            "           3       0.43      0.15      0.22      1000\n",
            "           4       0.40      0.40      0.40      1000\n",
            "           5       0.38      0.44      0.40      1000\n",
            "           6       0.48      0.62      0.54      1000\n",
            "           7       0.72      0.36      0.48      1000\n",
            "           8       0.70      0.43      0.53      1000\n",
            "           9       0.61      0.39      0.48      1000\n",
            "\n",
            "    accuracy                           0.46     10000\n",
            "   macro avg       0.50      0.46      0.45     10000\n",
            "weighted avg       0.50      0.46      0.45     10000\n",
            "\n"
          ]
        }
      ]
    },
    {
      "cell_type": "code",
      "source": [
        "# Using CNN for image classification\n",
        "\n",
        "cnn = models.Sequential([\n",
        "    layers.Conv2D(filters=32, kernel_size=(3, 3), activation='relu', input_shape=(32, 32, 3)),\n",
        "    layers.MaxPooling2D((2, 2)),\n",
        "\n",
        "    layers.Conv2D(filters=64, kernel_size=(3, 3), activation='relu'),\n",
        "    layers.MaxPooling2D((2, 2)),\n",
        "\n",
        "    layers.Flatten(),\n",
        "    layers.Dense(64, activation='relu'),\n",
        "    layers.Dense(10, activation='softmax')\n",
        "])\n",
        "\n",
        "cnn.compile(optimizer='adam',\n",
        "              loss='sparse_categorical_crossentropy',\n",
        "              metrics=['accuracy'])\n",
        "\n",
        "cnn.fit(X_train, y_train, epochs = 10)"
      ],
      "metadata": {
        "colab": {
          "base_uri": "https://localhost:8080/"
        },
        "id": "rowsLHQa8kI1",
        "outputId": "8b0d4a38-b2a8-4e2a-ede0-75b994c01f8a"
      },
      "execution_count": null,
      "outputs": [
        {
          "output_type": "stream",
          "name": "stdout",
          "text": [
            "Epoch 1/10\n",
            "1563/1563 [==============================] - 63s 40ms/step - loss: 1.5040 - accuracy: 0.4637\n",
            "Epoch 2/10\n",
            "1563/1563 [==============================] - 62s 40ms/step - loss: 1.1482 - accuracy: 0.5977\n",
            "Epoch 3/10\n",
            "1563/1563 [==============================] - 62s 40ms/step - loss: 1.0183 - accuracy: 0.6462\n",
            "Epoch 4/10\n",
            "1563/1563 [==============================] - 62s 40ms/step - loss: 0.9378 - accuracy: 0.6750\n",
            "Epoch 5/10\n",
            "1563/1563 [==============================] - 62s 40ms/step - loss: 0.8809 - accuracy: 0.6947\n",
            "Epoch 6/10\n",
            "1563/1563 [==============================] - 62s 40ms/step - loss: 0.8276 - accuracy: 0.7132\n",
            "Epoch 7/10\n",
            "1563/1563 [==============================] - 62s 39ms/step - loss: 0.7908 - accuracy: 0.7246\n",
            "Epoch 8/10\n",
            "1563/1563 [==============================] - 62s 39ms/step - loss: 0.7468 - accuracy: 0.7395\n",
            "Epoch 9/10\n",
            "1563/1563 [==============================] - 62s 39ms/step - loss: 0.7171 - accuracy: 0.7503\n",
            "Epoch 10/10\n",
            "1563/1563 [==============================] - 62s 40ms/step - loss: 0.6879 - accuracy: 0.7590\n"
          ]
        },
        {
          "output_type": "execute_result",
          "data": {
            "text/plain": [
              "<keras.callbacks.History at 0x7fb8492b5050>"
            ]
          },
          "metadata": {},
          "execution_count": 7
        }
      ]
    },
    {
      "cell_type": "code",
      "source": [
        "from sklearn.metrics import confusion_matrix , classification_report\n",
        "import numpy as np\n",
        "y_pred = cnn.predict(X_test)\n",
        "y_pred_classes = [np.argmax(element) for element in y_pred]\n",
        "\n",
        "print(\"Classification Report: \\n\", classification_report(y_test, y_pred_classes))\n"
      ],
      "metadata": {
        "colab": {
          "base_uri": "https://localhost:8080/"
        },
        "id": "HYCsCfic_nyN",
        "outputId": "567286c3-58d5-41fe-d71d-0a20db37827a"
      },
      "execution_count": null,
      "outputs": [
        {
          "output_type": "stream",
          "name": "stdout",
          "text": [
            "Classification Report: \n",
            "               precision    recall  f1-score   support\n",
            "\n",
            "           0       0.71      0.76      0.74      1000\n",
            "           1       0.87      0.76      0.81      1000\n",
            "           2       0.64      0.54      0.59      1000\n",
            "           3       0.51      0.59      0.55      1000\n",
            "           4       0.60      0.70      0.64      1000\n",
            "           5       0.66      0.53      0.59      1000\n",
            "           6       0.79      0.75      0.77      1000\n",
            "           7       0.75      0.76      0.76      1000\n",
            "           8       0.78      0.83      0.81      1000\n",
            "           9       0.76      0.80      0.78      1000\n",
            "\n",
            "    accuracy                           0.70     10000\n",
            "   macro avg       0.71      0.70      0.70     10000\n",
            "weighted avg       0.71      0.70      0.70     10000\n",
            "\n"
          ]
        }
      ]
    },
    {
      "cell_type": "code",
      "source": [],
      "metadata": {
        "id": "u92hDKVGDdaJ"
      },
      "execution_count": null,
      "outputs": []
    }
  ]
}